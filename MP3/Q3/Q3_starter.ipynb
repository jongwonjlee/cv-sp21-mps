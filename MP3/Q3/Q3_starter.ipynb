{
 "cells": [
  {
   "cell_type": "markdown",
   "metadata": {},
   "source": [
    "# Single-View Geometry (Python)\n",
    "\n",
    "## Usage\n",
    "This code snippet provides an overall code structure and some interactive plot interfaces for the *Single-View Geometry* section of Assignment 3. In [main function](#Main-function), we outline the required functionalities step by step. Some of the functions which involves interactive plots are already provided, but [the rest](#Your-implementation) are left for you to implement.\n",
    "\n",
    "## Package installation\n",
    "- You will need [GUI backend](https://matplotlib.org/faq/usage_faq.html#what-is-a-backend) to enable interactive plots in `matplotlib`.\n",
    "- In this code, we use `tkinter` package. Installation instruction can be found [here](https://anaconda.org/anaconda/tk)."
   ]
  },
  {
   "cell_type": "markdown",
   "metadata": {},
   "source": [
    "# Common imports"
   ]
  },
  {
   "cell_type": "code",
   "execution_count": 1,
   "metadata": {},
   "outputs": [],
   "source": [
    "import matplotlib.pyplot as plt\n",
    "import numpy as np\n",
    "import cv2\n",
    "import os\n",
    "\n",
    "from PIL import Image\n",
    "import pickle"
   ]
  },
  {
   "cell_type": "code",
   "execution_count": 2,
   "metadata": {
    "tags": []
   },
   "outputs": [],
   "source": [
    "%matplotlib inline\n",
    "%matplotlib tk"
   ]
  },
  {
   "cell_type": "markdown",
   "metadata": {},
   "source": [
    "# Provided functions"
   ]
  },
  {
   "cell_type": "code",
   "execution_count": 3,
   "metadata": {},
   "outputs": [],
   "source": [
    "def get_input_lines(im, min_lines=3):\n",
    "    \"\"\"\n",
    "    Allows user to input line segments; computes centers and directions.\n",
    "    Inputs:\n",
    "        im: np.ndarray of shape (height, width, 3)\n",
    "        min_lines: minimum number of lines required\n",
    "    Returns:\n",
    "        n: number of lines from input\n",
    "        lines: np.ndarray of shape (3, n)\n",
    "            where each column denotes the parameters of the line equation\n",
    "        centers: np.ndarray of shape (3, n)\n",
    "            where each column denotes the homogeneous coordinates of the centers\n",
    "    \"\"\"\n",
    "    n = 0\n",
    "    lines = np.zeros((3, 0))\n",
    "    centers = np.zeros((3, 0))\n",
    "\n",
    "    plt.figure()\n",
    "    plt.axis('off')\n",
    "    plt.imshow(im)\n",
    "    print(f'Set at least {min_lines} lines to compute vanishing point')\n",
    "    print(f'The delete and backspace keys act like right clicking')\n",
    "    print(f'The enter key acts like middle clicking')\n",
    "    while True:\n",
    "        print('Click the two endpoints, use the right button (delete and backspace keys) to undo, and use the middle button to stop input')\n",
    "        clicked = plt.ginput(2, timeout=0, show_clicks=True)\n",
    "        if not clicked or len(clicked) < 2:\n",
    "            if n < min_lines:\n",
    "                print(f'Need at least {min_lines} lines, you have {n} now')\n",
    "                continue\n",
    "            else:\n",
    "                # Stop getting lines if number of lines is enough\n",
    "                break\n",
    "\n",
    "        # Unpack user inputs and save as homogeneous coordinates\n",
    "        pt1 = np.array([clicked[0][0], clicked[0][1], 1])\n",
    "        pt2 = np.array([clicked[1][0], clicked[1][1], 1])\n",
    "        # Get line equation using cross product\n",
    "        # Line equation: line[0] * x + line[1] * y + line[2] = 0\n",
    "        line = np.cross(pt1, pt2)\n",
    "        lines = np.append(lines, line.reshape((3, 1)), axis=1)\n",
    "        # Get center coordinate of the line segment\n",
    "        center = (pt1 + pt2) / 2\n",
    "        centers = np.append(centers, center.reshape((3, 1)), axis=1)\n",
    "\n",
    "        # Plot line segment\n",
    "        plt.plot([pt1[0], pt2[0]], [pt1[1], pt2[1]], color='b')\n",
    "\n",
    "        n += 1\n",
    "\n",
    "    return n, lines, centers"
   ]
  },
  {
   "cell_type": "code",
   "execution_count": 5,
   "metadata": {},
   "outputs": [],
   "source": [
    "def plot_lines_and_vp(ax, im, lines, vp):\n",
    "    \"\"\"\n",
    "    Plots user-input lines and the calculated vanishing point.\n",
    "    Inputs:\n",
    "        im: np.ndarray of shape (height, width, 3)\n",
    "        lines: np.ndarray of shape (3, n)\n",
    "            where each column denotes the parameters of the line equation\n",
    "        vp: np.ndarray of shape (3, )\n",
    "    \"\"\"\n",
    "    bx1 = min(1, vp[0] / vp[2]) - 10\n",
    "    bx2 = max(im.shape[1], vp[0] / vp[2]) + 10\n",
    "    by1 = min(1, vp[1] / vp[2]) - 10\n",
    "    by2 = max(im.shape[0], vp[1] / vp[2]) + 10\n",
    "    \n",
    "    ax.imshow(im)\n",
    "    for i in range(lines.shape[1]):\n",
    "        if lines[0, i] < lines[1, i]:\n",
    "            pt1 = np.cross(np.array([1, 0, -bx1]), lines[:, i])\n",
    "            pt2 = np.cross(np.array([1, 0, -bx2]), lines[:, i])\n",
    "        else:\n",
    "            pt1 = np.cross(np.array([0, 1, -by1]), lines[:, i])\n",
    "            pt2 = np.cross(np.array([0, 1, -by2]), lines[:, i])\n",
    "        pt1 = pt1 / pt1[2]\n",
    "        pt2 = pt2 / pt2[2]\n",
    "        ax.plot([pt1[0], pt2[0]], [pt1[1], pt2[1]], 'g')\n",
    "\n",
    "    ax.plot(vp[0] / vp[2], vp[1] / vp[2], 'ro')\n",
    "    ax.set_xlim([bx1, bx2])\n",
    "    ax.set_ylim([by2, by1])"
   ]
  },
  {
   "cell_type": "markdown",
   "metadata": {},
   "source": [
    "# Your implementation"
   ]
  },
  {
   "cell_type": "code",
   "execution_count": 7,
   "metadata": {},
   "outputs": [],
   "source": [
    "def get_vanishing_point(lines):\n",
    "    \"\"\"\n",
    "    Solves for the vanishing point using the user-input lines.\n",
    "    Inputs:\n",
    "        lines: np.ndarray of shape (3, n)\n",
    "            where each column denotes the parameters of the line equation\n",
    "        centers: np.ndarray of shape (3, n)\n",
    "            where each column denotes the homogeneous coordinates of the centers\n",
    "    Returns:\n",
    "        vp: np.ndarray of shape (3, )\n",
    "            where the 2d vanishing point in homogeneous coordinate\n",
    "    \"\"\"\n",
    "    _, n = lines.shape\n",
    "\n",
    "    A = np.empty((n, 3))\n",
    "    for i in range(n):\n",
    "        A[i, :] = lines[:, i]\n",
    "    \n",
    "    U, S, V = np.linalg.svd(A)\n",
    "    vp = np.reshape(V[-1, :], (3,))\n",
    "    \n",
    "    vp /= vp[-1]\n",
    "\n",
    "    return vp"
   ]
  },
  {
   "cell_type": "code",
   "execution_count": 8,
   "metadata": {},
   "outputs": [],
   "source": [
    "def get_horizon_line(horizontal_vp0, horizontal_vp1):\n",
    "    \"\"\"\n",
    "    Calculates the ground horizon line.\n",
    "    Inputs:\n",
    "        horizontal_vp0: np.ndarray of shape (3, )\n",
    "            where one horizontal 2d vanishing point in homogeneous coordinate\n",
    "        horizontal_vp1: np.ndarray of shape (3, )\n",
    "            where the other horizontal 2d vanishing point in homogeneous coordinate\n",
    "    Returns:\n",
    "        horizontal_line: np.ndarray of shape (3, )\n",
    "            where the coefficients of 2d horizontal line equation ax + by + c = 0 \n",
    "            with a constraint that a**2 + b**2 = 1\n",
    "    \"\"\"\n",
    "    # normalize 2d vanishing points \n",
    "    horizontal_vp0 /= horizontal_vp0[-1]\n",
    "    horizontal_vp1 /= horizontal_vp1[-1]\n",
    "\n",
    "    # construct ax + by + c = 0 where coefficients are not normalized\n",
    "    x0, y0 = horizontal_vp0[:-1]\n",
    "    x1, y1 = horizontal_vp1[:-1]\n",
    "    horizontal_line = np.array([(y1 - y0), -(x1 - x0), -x0*y1 + x1*y0])\n",
    "    \n",
    "    # force ax + by + c = 0 where a**2 + b**2 = 1\n",
    "    horizontal_line /= np.linalg.norm(horizontal_line[:-1])\n",
    "    \n",
    "    return horizontal_line"
   ]
  },
  {
   "cell_type": "code",
   "execution_count": 9,
   "metadata": {},
   "outputs": [],
   "source": [
    "def plot_horizon_line(ax, im, horizontal_line, pt1=None, pt2=None):\n",
    "    \"\"\"\n",
    "    Plots the horizon line.\n",
    "    Inputs:\n",
    "        ax: pyplot axis\n",
    "        im: np.ndarray of shape (height, width, 3)\n",
    "        horizontal_line: np.ndarray of shape (3, )\n",
    "            where the coefficients of 2d horizontal line equation ax + by + c = 0 \n",
    "            which satisfies a**2 + b**2 = 1\n",
    "        pt1 (optional): np.ndarray of shape (3, )\n",
    "            where one horizontal 2d vanishing point in homogeneous coordinate\n",
    "        pt2 (optional): np.ndarray of shape (3, )\n",
    "            where the other horizontal 2d vanishing point in homogeneous coordinate\n",
    "    Returns:\n",
    "    \"\"\"\n",
    "    # normalize horizontal_line\n",
    "    horizontal_line /= np.linalg.norm(horizontal_line[:-1])\n",
    "\n",
    "    ax.imshow(im)\n",
    "\n",
    "    if (pt1 is None) or (pt2 is None): \n",
    "        # if two horizontal vanishing points are not given, \n",
    "        # pt1 for x-intercept and pt2 for y-intercept\n",
    "        pt1 = np.array([-horizontal_line[2]/horizontal_line[0], 0, 1])\n",
    "        pt2 = np.array([0, -horizontal_line[2]/horizontal_line[1], 1])\n",
    "    else:\n",
    "        # else, normalize them\n",
    "        pt1 /= pt1[-1]\n",
    "        pt2 /= pt2[-1]\n",
    "\n",
    "    # plot horizontal line\n",
    "    ax.plot([pt1[0], pt2[0]], [pt1[1], pt2[1]], 'g')\n",
    "\n",
    "    # plot vanishing points or intercepts\n",
    "    ax.plot(pt1[0], pt1[1], 'ro')\n",
    "    ax.plot(pt2[0], pt2[1], 'ro')\n",
    "\n",
    "    # set limit to include the points\n",
    "    # bx1 = min(1, pt1[0], pt2[0]) - 10\n",
    "    # bx2 = max(im.shape[1], pt1[0], pt2[0]) + 10\n",
    "    # by1 = min(1, pt1[1], pt2[1]) - 10\n",
    "    # by2 = max(im.shape[0], pt1[1], pt2[1]) + 10\n",
    "    # \n",
    "    # ax.set_xlim([bx1, bx2])\n",
    "    # ax.set_ylim([by1, by2])"
   ]
  },
  {
   "cell_type": "code",
   "execution_count": 45,
   "metadata": {},
   "outputs": [],
   "source": [
    "def get_camera_parameters(vpt_x, vpt_y, vpt_z):\n",
    "    \"\"\"\n",
    "    Computes the camera parameters. Hint: The SymPy package is suitable for this.\n",
    "    Inputs:\n",
    "        vpt_x: np.ndarray of shape (3, )\n",
    "            where horizontal vanishing point toward right in 2d homogeneous coordinate\n",
    "        vpt_y: np.ndarray of shape (3, )\n",
    "            where vertical vanishing point downward in 2d homogeneous coordinate\n",
    "        vpt_z: np.ndarray of shape (3, )\n",
    "            where horizontal vanishing point toward left in 2d homogeneous coordinate\n",
    "    Returns:\n",
    "        f: focal length\n",
    "        u: principal point along horizontal axis\n",
    "        v: principal point along vertical axis\n",
    "        K: np.ndarray of shape (3, 3)\n",
    "    \"\"\"\n",
    "    from sympy import symbols, Matrix, solve, Eq\n",
    "    f_sym, u_sym, v_sym = symbols('f, u, v')\n",
    "    K_sym = Matrix([[f_sym,0,u_sym], [0,f_sym,v_sym], [0,0,1]])\n",
    "\n",
    "    V_left  = np.vstack([vpt_x, vpt_y, vpt_z]).T\n",
    "    V_right = np.vstack([vpt_y, vpt_z, vpt_x]).T\n",
    "\n",
    "    res = V_left.T * K_sym.inv().T * K_sym.inv() * V_right\n",
    "    \n",
    "    eq0 = Eq(res[0,0], 0)\n",
    "    eq1 = Eq(res[1,1], 0)\n",
    "    eq2 = Eq(res[2,2], 0)\n",
    "\n",
    "    sol = solve([eq0, eq1, eq2], (f_sym, u_sym, v_sym))\n",
    "\n",
    "    f = abs(sol[0][0])\n",
    "    u = sol[0][1]\n",
    "    v = sol[0][2]\n",
    "    K = np.array([[f,0,u], [0,f,v], [0,0,1]], dtype='float')\n",
    "\n",
    "    return f, u, v, K"
   ]
  },
  {
   "cell_type": "code",
   "execution_count": 75,
   "metadata": {},
   "outputs": [],
   "source": [
    "def get_rotation_matrix(vpt_x, vpt_y, vpt_z, K):\n",
    "    \"\"\"\n",
    "    Computes the rotation matrix using the camera parameters.\n",
    "    Inputs:\n",
    "        vpt_x: np.ndarray of shape (3, )\n",
    "            where horizontal vanishing point toward right in 2d homogeneous coordinate\n",
    "        vpt_y: np.ndarray of shape (3, )\n",
    "            where vertical vanishing point downward in 2d homogeneous coordinate\n",
    "        vpt_z: np.ndarray of shape (3, )\n",
    "            where horizontal vanishing point toward left in 2d homogeneous coordinate\n",
    "        K: np.ndarray of shape (3, 3)\n",
    "    Returns:\n",
    "        R: np.ndarray of shape (3, 3)\n",
    "            rotation matrix, whose column vectors' norms are equal to 1\n",
    "    \"\"\"\n",
    "    # calculate unnormalized rotation matrix\n",
    "    r1_raw = np.linalg.inv(K) @ vpt_x[:,np.newaxis]\n",
    "    r2_raw = np.linalg.inv(K) @ vpt_y[:,np.newaxis]\n",
    "    r3_raw = np.linalg.inv(K) @ vpt_z[:,np.newaxis]\n",
    "    \n",
    "    # calculate corresponding coefficients\n",
    "    lambda1 = 1 / np.linalg.norm(r1_raw)\n",
    "    lambda2 = 1 / np.linalg.norm(r2_raw)\n",
    "    lambda3 = 1 / np.linalg.norm(r3_raw)\n",
    "\n",
    "    # normalize columnwise\n",
    "    r1 = r1_raw * lambda1\n",
    "    r2 = r2_raw * lambda2\n",
    "    r3 = r3_raw * lambda3\n",
    "\n",
    "    R = np.hstack([r1,r2,r3])\n",
    "\n",
    "    return R"
   ]
  },
  {
   "cell_type": "markdown",
   "metadata": {},
   "source": [
    "# Main function"
   ]
  },
  {
   "cell_type": "code",
   "execution_count": 14,
   "metadata": {},
   "outputs": [],
   "source": [
    "im = np.asarray(Image.open('./eceb.jpg'))\n",
    "\n",
    "# Also loads the vanishing line data if it exists in data.pickle file. \n",
    "# data.pickle is written using snippet in the next cell.\n",
    "if os.path.exists('./data.pickle'):\n",
    "    with open('./data.pickle', 'rb') as f:\n",
    "        all_n, all_lines, all_centers = pickle.load(f)\n",
    "    num_vpts = 3"
   ]
  },
  {
   "cell_type": "code",
   "execution_count": 9,
   "metadata": {
    "tags": []
   },
   "outputs": [
    {
     "output_type": "stream",
     "name": "stdout",
     "text": "Getting vanishing point 0\nSet at least 3 lines to compute vanishing point\nThe delete and backspace keys act like right clicking\nThe enter key acts like middle clicking\nClick the two endpoints, use the right button (delete and backspace keys) to undo, and use the middle button to stop input\nNeed at least 3 lines, you have 0 now\nClick the two endpoints, use the right button (delete and backspace keys) to undo, and use the middle button to stop input\nNeed at least 3 lines, you have 0 now\nClick the two endpoints, use the right button (delete and backspace keys) to undo, and use the middle button to stop input\n"
    },
    {
     "output_type": "error",
     "ename": "TclError",
     "evalue": "invalid command name \"pyimage11\"",
     "traceback": [
      "\u001b[0;31m---------------------------------------------------------------------------\u001b[0m",
      "\u001b[0;31mTclError\u001b[0m                                  Traceback (most recent call last)",
      "\u001b[0;32m<ipython-input-9-411d6f0b4167>\u001b[0m in \u001b[0;36m<module>\u001b[0;34m\u001b[0m\n\u001b[1;32m     10\u001b[0m \u001b[0;34m\u001b[0m\u001b[0m\n\u001b[1;32m     11\u001b[0m     \u001b[0;31m# Get at least three lines from user input\u001b[0m\u001b[0;34m\u001b[0m\u001b[0;34m\u001b[0m\u001b[0;34m\u001b[0m\u001b[0m\n\u001b[0;32m---> 12\u001b[0;31m     \u001b[0mn_i\u001b[0m\u001b[0;34m,\u001b[0m \u001b[0mlines_i\u001b[0m\u001b[0;34m,\u001b[0m \u001b[0mcenters_i\u001b[0m \u001b[0;34m=\u001b[0m \u001b[0mget_input_lines\u001b[0m\u001b[0;34m(\u001b[0m\u001b[0mim\u001b[0m\u001b[0;34m)\u001b[0m\u001b[0;34m\u001b[0m\u001b[0;34m\u001b[0m\u001b[0m\n\u001b[0m\u001b[1;32m     13\u001b[0m     \u001b[0mall_n\u001b[0m\u001b[0;34m.\u001b[0m\u001b[0mappend\u001b[0m\u001b[0;34m(\u001b[0m\u001b[0mn_i\u001b[0m\u001b[0;34m)\u001b[0m\u001b[0;34m\u001b[0m\u001b[0;34m\u001b[0m\u001b[0m\n\u001b[1;32m     14\u001b[0m     \u001b[0mall_lines\u001b[0m\u001b[0;34m.\u001b[0m\u001b[0mappend\u001b[0m\u001b[0;34m(\u001b[0m\u001b[0mlines_i\u001b[0m\u001b[0;34m)\u001b[0m\u001b[0;34m\u001b[0m\u001b[0;34m\u001b[0m\u001b[0m\n",
      "\u001b[0;32m<ipython-input-6-5612a75509c2>\u001b[0m in \u001b[0;36mget_input_lines\u001b[0;34m(im, min_lines)\u001b[0m\n\u001b[1;32m     24\u001b[0m     \u001b[0;32mwhile\u001b[0m \u001b[0;32mTrue\u001b[0m\u001b[0;34m:\u001b[0m\u001b[0;34m\u001b[0m\u001b[0;34m\u001b[0m\u001b[0m\n\u001b[1;32m     25\u001b[0m         \u001b[0mprint\u001b[0m\u001b[0;34m(\u001b[0m\u001b[0;34m'Click the two endpoints, use the right button (delete and backspace keys) to undo, and use the middle button to stop input'\u001b[0m\u001b[0;34m)\u001b[0m\u001b[0;34m\u001b[0m\u001b[0;34m\u001b[0m\u001b[0m\n\u001b[0;32m---> 26\u001b[0;31m         \u001b[0mclicked\u001b[0m \u001b[0;34m=\u001b[0m \u001b[0mplt\u001b[0m\u001b[0;34m.\u001b[0m\u001b[0mginput\u001b[0m\u001b[0;34m(\u001b[0m\u001b[0;36m2\u001b[0m\u001b[0;34m,\u001b[0m \u001b[0mtimeout\u001b[0m\u001b[0;34m=\u001b[0m\u001b[0;36m0\u001b[0m\u001b[0;34m,\u001b[0m \u001b[0mshow_clicks\u001b[0m\u001b[0;34m=\u001b[0m\u001b[0;32mTrue\u001b[0m\u001b[0;34m)\u001b[0m\u001b[0;34m\u001b[0m\u001b[0;34m\u001b[0m\u001b[0m\n\u001b[0m\u001b[1;32m     27\u001b[0m         \u001b[0;32mif\u001b[0m \u001b[0;32mnot\u001b[0m \u001b[0mclicked\u001b[0m \u001b[0;32mor\u001b[0m \u001b[0mlen\u001b[0m\u001b[0;34m(\u001b[0m\u001b[0mclicked\u001b[0m\u001b[0;34m)\u001b[0m \u001b[0;34m<\u001b[0m \u001b[0;36m2\u001b[0m\u001b[0;34m:\u001b[0m\u001b[0;34m\u001b[0m\u001b[0;34m\u001b[0m\u001b[0m\n\u001b[1;32m     28\u001b[0m             \u001b[0;32mif\u001b[0m \u001b[0mn\u001b[0m \u001b[0;34m<\u001b[0m \u001b[0mmin_lines\u001b[0m\u001b[0;34m:\u001b[0m\u001b[0;34m\u001b[0m\u001b[0;34m\u001b[0m\u001b[0m\n",
      "\u001b[0;32m~/miniconda3/envs/py37/lib/python3.7/site-packages/matplotlib/pyplot.py\u001b[0m in \u001b[0;36mginput\u001b[0;34m(n, timeout, show_clicks, mouse_add, mouse_pop, mouse_stop)\u001b[0m\n\u001b[1;32m   2368\u001b[0m         \u001b[0mn\u001b[0m\u001b[0;34m=\u001b[0m\u001b[0mn\u001b[0m\u001b[0;34m,\u001b[0m \u001b[0mtimeout\u001b[0m\u001b[0;34m=\u001b[0m\u001b[0mtimeout\u001b[0m\u001b[0;34m,\u001b[0m \u001b[0mshow_clicks\u001b[0m\u001b[0;34m=\u001b[0m\u001b[0mshow_clicks\u001b[0m\u001b[0;34m,\u001b[0m\u001b[0;34m\u001b[0m\u001b[0;34m\u001b[0m\u001b[0m\n\u001b[1;32m   2369\u001b[0m         \u001b[0mmouse_add\u001b[0m\u001b[0;34m=\u001b[0m\u001b[0mmouse_add\u001b[0m\u001b[0;34m,\u001b[0m \u001b[0mmouse_pop\u001b[0m\u001b[0;34m=\u001b[0m\u001b[0mmouse_pop\u001b[0m\u001b[0;34m,\u001b[0m\u001b[0;34m\u001b[0m\u001b[0;34m\u001b[0m\u001b[0m\n\u001b[0;32m-> 2370\u001b[0;31m         mouse_stop=mouse_stop)\n\u001b[0m\u001b[1;32m   2371\u001b[0m \u001b[0;34m\u001b[0m\u001b[0m\n\u001b[1;32m   2372\u001b[0m \u001b[0;34m\u001b[0m\u001b[0m\n",
      "\u001b[0;32m~/miniconda3/envs/py37/lib/python3.7/site-packages/matplotlib/figure.py\u001b[0m in \u001b[0;36mginput\u001b[0;34m(self, n, timeout, show_clicks, mouse_add, mouse_pop, mouse_stop)\u001b[0m\n\u001b[1;32m   2452\u001b[0m                                                   mouse_stop=mouse_stop)\n\u001b[1;32m   2453\u001b[0m         return blocking_mouse_input(n=n, timeout=timeout,\n\u001b[0;32m-> 2454\u001b[0;31m                                     show_clicks=show_clicks)\n\u001b[0m\u001b[1;32m   2455\u001b[0m \u001b[0;34m\u001b[0m\u001b[0m\n\u001b[1;32m   2456\u001b[0m     \u001b[0;32mdef\u001b[0m \u001b[0mwaitforbuttonpress\u001b[0m\u001b[0;34m(\u001b[0m\u001b[0mself\u001b[0m\u001b[0;34m,\u001b[0m \u001b[0mtimeout\u001b[0m\u001b[0;34m=\u001b[0m\u001b[0;34m-\u001b[0m\u001b[0;36m1\u001b[0m\u001b[0;34m)\u001b[0m\u001b[0;34m:\u001b[0m\u001b[0;34m\u001b[0m\u001b[0;34m\u001b[0m\u001b[0m\n",
      "\u001b[0;32m~/miniconda3/envs/py37/lib/python3.7/site-packages/matplotlib/blocking_input.py\u001b[0m in \u001b[0;36m__call__\u001b[0;34m(self, n, timeout, show_clicks)\u001b[0m\n\u001b[1;32m    265\u001b[0m         \u001b[0mself\u001b[0m\u001b[0;34m.\u001b[0m\u001b[0mclicks\u001b[0m \u001b[0;34m=\u001b[0m \u001b[0;34m[\u001b[0m\u001b[0;34m]\u001b[0m\u001b[0;34m\u001b[0m\u001b[0;34m\u001b[0m\u001b[0m\n\u001b[1;32m    266\u001b[0m         \u001b[0mself\u001b[0m\u001b[0;34m.\u001b[0m\u001b[0mmarks\u001b[0m \u001b[0;34m=\u001b[0m \u001b[0;34m[\u001b[0m\u001b[0;34m]\u001b[0m\u001b[0;34m\u001b[0m\u001b[0;34m\u001b[0m\u001b[0m\n\u001b[0;32m--> 267\u001b[0;31m         \u001b[0mBlockingInput\u001b[0m\u001b[0;34m.\u001b[0m\u001b[0m__call__\u001b[0m\u001b[0;34m(\u001b[0m\u001b[0mself\u001b[0m\u001b[0;34m,\u001b[0m \u001b[0mn\u001b[0m\u001b[0;34m=\u001b[0m\u001b[0mn\u001b[0m\u001b[0;34m,\u001b[0m \u001b[0mtimeout\u001b[0m\u001b[0;34m=\u001b[0m\u001b[0mtimeout\u001b[0m\u001b[0;34m)\u001b[0m\u001b[0;34m\u001b[0m\u001b[0;34m\u001b[0m\u001b[0m\n\u001b[0m\u001b[1;32m    268\u001b[0m         \u001b[0;32mreturn\u001b[0m \u001b[0mself\u001b[0m\u001b[0;34m.\u001b[0m\u001b[0mclicks\u001b[0m\u001b[0;34m\u001b[0m\u001b[0;34m\u001b[0m\u001b[0m\n\u001b[1;32m    269\u001b[0m \u001b[0;34m\u001b[0m\u001b[0m\n",
      "\u001b[0;32m~/miniconda3/envs/py37/lib/python3.7/site-packages/matplotlib/blocking_input.py\u001b[0m in \u001b[0;36m__call__\u001b[0;34m(self, n, timeout)\u001b[0m\n\u001b[1;32m     94\u001b[0m         \u001b[0;32mfinally\u001b[0m\u001b[0;34m:\u001b[0m  \u001b[0;31m# Run even on exception like ctrl-c.\u001b[0m\u001b[0;34m\u001b[0m\u001b[0;34m\u001b[0m\u001b[0m\n\u001b[1;32m     95\u001b[0m             \u001b[0;31m# Disconnect the callbacks.\u001b[0m\u001b[0;34m\u001b[0m\u001b[0;34m\u001b[0m\u001b[0;34m\u001b[0m\u001b[0m\n\u001b[0;32m---> 96\u001b[0;31m             \u001b[0mself\u001b[0m\u001b[0;34m.\u001b[0m\u001b[0mcleanup\u001b[0m\u001b[0;34m(\u001b[0m\u001b[0;34m)\u001b[0m\u001b[0;34m\u001b[0m\u001b[0;34m\u001b[0m\u001b[0m\n\u001b[0m\u001b[1;32m     97\u001b[0m         \u001b[0;31m# Return the events in this case.\u001b[0m\u001b[0;34m\u001b[0m\u001b[0;34m\u001b[0m\u001b[0;34m\u001b[0m\u001b[0m\n\u001b[1;32m     98\u001b[0m         \u001b[0;32mreturn\u001b[0m \u001b[0mself\u001b[0m\u001b[0;34m.\u001b[0m\u001b[0mevents\u001b[0m\u001b[0;34m\u001b[0m\u001b[0;34m\u001b[0m\u001b[0m\n",
      "\u001b[0;32m~/miniconda3/envs/py37/lib/python3.7/site-packages/matplotlib/blocking_input.py\u001b[0m in \u001b[0;36mcleanup\u001b[0;34m(self, event)\u001b[0m\n\u001b[1;32m    254\u001b[0m                 \u001b[0mmark\u001b[0m\u001b[0;34m.\u001b[0m\u001b[0mremove\u001b[0m\u001b[0;34m(\u001b[0m\u001b[0;34m)\u001b[0m\u001b[0;34m\u001b[0m\u001b[0;34m\u001b[0m\u001b[0m\n\u001b[1;32m    255\u001b[0m             \u001b[0mself\u001b[0m\u001b[0;34m.\u001b[0m\u001b[0mmarks\u001b[0m \u001b[0;34m=\u001b[0m \u001b[0;34m[\u001b[0m\u001b[0;34m]\u001b[0m\u001b[0;34m\u001b[0m\u001b[0;34m\u001b[0m\u001b[0m\n\u001b[0;32m--> 256\u001b[0;31m             \u001b[0mself\u001b[0m\u001b[0;34m.\u001b[0m\u001b[0mfig\u001b[0m\u001b[0;34m.\u001b[0m\u001b[0mcanvas\u001b[0m\u001b[0;34m.\u001b[0m\u001b[0mdraw\u001b[0m\u001b[0;34m(\u001b[0m\u001b[0;34m)\u001b[0m\u001b[0;34m\u001b[0m\u001b[0;34m\u001b[0m\u001b[0m\n\u001b[0m\u001b[1;32m    257\u001b[0m         \u001b[0;31m# Call base class to remove callbacks.\u001b[0m\u001b[0;34m\u001b[0m\u001b[0;34m\u001b[0m\u001b[0;34m\u001b[0m\u001b[0m\n\u001b[1;32m    258\u001b[0m         \u001b[0mBlockingInput\u001b[0m\u001b[0;34m.\u001b[0m\u001b[0mcleanup\u001b[0m\u001b[0;34m(\u001b[0m\u001b[0mself\u001b[0m\u001b[0;34m)\u001b[0m\u001b[0;34m\u001b[0m\u001b[0;34m\u001b[0m\u001b[0m\n",
      "\u001b[0;32m~/miniconda3/envs/py37/lib/python3.7/site-packages/matplotlib/backends/backend_tkagg.py\u001b[0m in \u001b[0;36mdraw\u001b[0;34m(self)\u001b[0m\n\u001b[1;32m      8\u001b[0m     \u001b[0;32mdef\u001b[0m \u001b[0mdraw\u001b[0m\u001b[0;34m(\u001b[0m\u001b[0mself\u001b[0m\u001b[0;34m)\u001b[0m\u001b[0;34m:\u001b[0m\u001b[0;34m\u001b[0m\u001b[0;34m\u001b[0m\u001b[0m\n\u001b[1;32m      9\u001b[0m         \u001b[0msuper\u001b[0m\u001b[0;34m(\u001b[0m\u001b[0mFigureCanvasTkAgg\u001b[0m\u001b[0;34m,\u001b[0m \u001b[0mself\u001b[0m\u001b[0;34m)\u001b[0m\u001b[0;34m.\u001b[0m\u001b[0mdraw\u001b[0m\u001b[0;34m(\u001b[0m\u001b[0;34m)\u001b[0m\u001b[0;34m\u001b[0m\u001b[0;34m\u001b[0m\u001b[0m\n\u001b[0;32m---> 10\u001b[0;31m         \u001b[0m_backend_tk\u001b[0m\u001b[0;34m.\u001b[0m\u001b[0mblit\u001b[0m\u001b[0;34m(\u001b[0m\u001b[0mself\u001b[0m\u001b[0;34m.\u001b[0m\u001b[0m_tkphoto\u001b[0m\u001b[0;34m,\u001b[0m \u001b[0mself\u001b[0m\u001b[0;34m.\u001b[0m\u001b[0mrenderer\u001b[0m\u001b[0;34m.\u001b[0m\u001b[0m_renderer\u001b[0m\u001b[0;34m,\u001b[0m \u001b[0;34m(\u001b[0m\u001b[0;36m0\u001b[0m\u001b[0;34m,\u001b[0m \u001b[0;36m1\u001b[0m\u001b[0;34m,\u001b[0m \u001b[0;36m2\u001b[0m\u001b[0;34m,\u001b[0m \u001b[0;36m3\u001b[0m\u001b[0;34m)\u001b[0m\u001b[0;34m)\u001b[0m\u001b[0;34m\u001b[0m\u001b[0;34m\u001b[0m\u001b[0m\n\u001b[0m\u001b[1;32m     11\u001b[0m         \u001b[0mself\u001b[0m\u001b[0;34m.\u001b[0m\u001b[0m_master\u001b[0m\u001b[0;34m.\u001b[0m\u001b[0mupdate_idletasks\u001b[0m\u001b[0;34m(\u001b[0m\u001b[0;34m)\u001b[0m\u001b[0;34m\u001b[0m\u001b[0;34m\u001b[0m\u001b[0m\n\u001b[1;32m     12\u001b[0m \u001b[0;34m\u001b[0m\u001b[0m\n",
      "\u001b[0;32m~/miniconda3/envs/py37/lib/python3.7/site-packages/matplotlib/backends/_backend_tk.py\u001b[0m in \u001b[0;36mblit\u001b[0;34m(photoimage, aggimage, offsets, bbox)\u001b[0m\n\u001b[1;32m     73\u001b[0m         \u001b[0mbboxptr\u001b[0m \u001b[0;34m=\u001b[0m \u001b[0;34m(\u001b[0m\u001b[0mx1\u001b[0m\u001b[0;34m,\u001b[0m \u001b[0mx2\u001b[0m\u001b[0;34m,\u001b[0m \u001b[0my1\u001b[0m\u001b[0;34m,\u001b[0m \u001b[0my2\u001b[0m\u001b[0;34m)\u001b[0m\u001b[0;34m\u001b[0m\u001b[0;34m\u001b[0m\u001b[0m\n\u001b[1;32m     74\u001b[0m     \u001b[0;32melse\u001b[0m\u001b[0;34m:\u001b[0m\u001b[0;34m\u001b[0m\u001b[0;34m\u001b[0m\u001b[0m\n\u001b[0;32m---> 75\u001b[0;31m         \u001b[0mphotoimage\u001b[0m\u001b[0;34m.\u001b[0m\u001b[0mblank\u001b[0m\u001b[0;34m(\u001b[0m\u001b[0;34m)\u001b[0m\u001b[0;34m\u001b[0m\u001b[0;34m\u001b[0m\u001b[0m\n\u001b[0m\u001b[1;32m     76\u001b[0m         \u001b[0mbboxptr\u001b[0m \u001b[0;34m=\u001b[0m \u001b[0;34m(\u001b[0m\u001b[0;36m0\u001b[0m\u001b[0;34m,\u001b[0m \u001b[0mwidth\u001b[0m\u001b[0;34m,\u001b[0m \u001b[0;36m0\u001b[0m\u001b[0;34m,\u001b[0m \u001b[0mheight\u001b[0m\u001b[0;34m)\u001b[0m\u001b[0;34m\u001b[0m\u001b[0;34m\u001b[0m\u001b[0m\n\u001b[1;32m     77\u001b[0m     _tkagg.blit(\n",
      "\u001b[0;32m~/miniconda3/envs/py37/lib/python3.7/tkinter/__init__.py\u001b[0m in \u001b[0;36mblank\u001b[0;34m(self)\u001b[0m\n\u001b[1;32m   3546\u001b[0m     \u001b[0;32mdef\u001b[0m \u001b[0mblank\u001b[0m\u001b[0;34m(\u001b[0m\u001b[0mself\u001b[0m\u001b[0;34m)\u001b[0m\u001b[0;34m:\u001b[0m\u001b[0;34m\u001b[0m\u001b[0;34m\u001b[0m\u001b[0m\n\u001b[1;32m   3547\u001b[0m         \u001b[0;34m\"\"\"Display a transparent image.\"\"\"\u001b[0m\u001b[0;34m\u001b[0m\u001b[0;34m\u001b[0m\u001b[0m\n\u001b[0;32m-> 3548\u001b[0;31m         \u001b[0mself\u001b[0m\u001b[0;34m.\u001b[0m\u001b[0mtk\u001b[0m\u001b[0;34m.\u001b[0m\u001b[0mcall\u001b[0m\u001b[0;34m(\u001b[0m\u001b[0mself\u001b[0m\u001b[0;34m.\u001b[0m\u001b[0mname\u001b[0m\u001b[0;34m,\u001b[0m \u001b[0;34m'blank'\u001b[0m\u001b[0;34m)\u001b[0m\u001b[0;34m\u001b[0m\u001b[0;34m\u001b[0m\u001b[0m\n\u001b[0m\u001b[1;32m   3549\u001b[0m     \u001b[0;32mdef\u001b[0m \u001b[0mcget\u001b[0m\u001b[0;34m(\u001b[0m\u001b[0mself\u001b[0m\u001b[0;34m,\u001b[0m \u001b[0moption\u001b[0m\u001b[0;34m)\u001b[0m\u001b[0;34m:\u001b[0m\u001b[0;34m\u001b[0m\u001b[0;34m\u001b[0m\u001b[0m\n\u001b[1;32m   3550\u001b[0m         \u001b[0;34m\"\"\"Return the value of OPTION.\"\"\"\u001b[0m\u001b[0;34m\u001b[0m\u001b[0;34m\u001b[0m\u001b[0m\n",
      "\u001b[0;31mTclError\u001b[0m: invalid command name \"pyimage11\""
     ]
    }
   ],
   "source": [
    "# Click and save the line data for vanishing points. This snippet \n",
    "# opens up an interface for selecting points and writes them to \n",
    "# data.pickle file. The file is over-written.\n",
    "\n",
    "num_vpts = 3\n",
    "all_n, all_lines, all_centers = [], [], []\n",
    "\n",
    "for i in range(num_vpts):\n",
    "    print(f'Getting vanishing point {i}')\n",
    "    \n",
    "    # Get at least three lines from user input\n",
    "    n_i, lines_i, centers_i = get_input_lines(im)\n",
    "    all_n.append(n_i)\n",
    "    all_lines.append(lines_i)\n",
    "    all_centers.append(centers_i)\n",
    "\n",
    "with open('data.pickle', 'wb') as f:\n",
    "    pickle.dump([all_n, all_lines, all_centers], f)"
   ]
  },
  {
   "cell_type": "code",
   "execution_count": 15,
   "metadata": {
    "tags": []
   },
   "outputs": [
    {
     "output_type": "stream",
     "name": "stdout",
     "text": "vanishing point 0:  [-1.91080224e+03  9.38131166e+01  1.00000000e+00]\nvanishing point 1:  [ 3.67966328e+03 -1.05848093e+02  1.00000000e+00]\nvanishing point 2:  [2.17582618e+03 5.63670907e+03 1.00000000e+00]\n"
    }
   ],
   "source": [
    "# Part (1)\n",
    "# Computing vanishing points for each of the directions\n",
    "vpts = np.zeros((3, num_vpts))\n",
    "\n",
    "for i in range(num_vpts):\n",
    "    fig = plt.figure(); ax = fig.gca()\n",
    "    \n",
    "    # <YOUR CODE> Solve for vanishing point\n",
    "    vpts[:, i] = get_vanishing_point(all_lines[i])\n",
    "    print(f\"vanishing point {i}: \", vpts[:, i])\n",
    "    \n",
    "    # Plot the lines and the vanishing point\n",
    "    plot_lines_and_vp(ax, im, all_lines[i], vpts[:, i])\n",
    "    fig.savefig('Q3_vp{:d}.pdf'.format(i), bbox_inches='tight')"
   ]
  },
  {
   "cell_type": "code",
   "execution_count": 16,
   "metadata": {
    "tags": []
   },
   "outputs": [
    {
     "output_type": "stream",
     "name": "stdout",
     "text": "horizontal line:  [-0.03569184 -0.99936284 25.55329752]\n"
    }
   ],
   "source": [
    "# Part (2) Computing and plotting the horizon\n",
    "# <YOUR CODE> Get the ground horizon line\n",
    "horizon_line = get_horizon_line(vpts[:, 0], vpts[:, 1])\n",
    "print(\"horizontal line: \", horizon_line)\n",
    "\n",
    "# <YOUR CODE> Plot the ground horizon line\n",
    "fig = plt.figure(); ax = fig.gca()\n",
    "plot_horizon_line(ax, im, horizon_line, pt1=vpts[:, 0], pt2=vpts[:, 1])\n",
    "fig.savefig('Q3_horizon.pdf', bbox_inches='tight')"
   ]
  },
  {
   "cell_type": "code",
   "execution_count": 46,
   "metadata": {
    "tags": []
   },
   "outputs": [
    {
     "output_type": "stream",
     "name": "stdout",
     "text": "2296.55057471669 2014.57714556580 1121.77522448985\n[[2.29655057e+03 0.00000000e+00 2.01457715e+03]\n [0.00000000e+00 2.29655057e+03 1.12177522e+03]\n [0.00000000e+00 0.00000000e+00 1.00000000e+00]]\n"
    }
   ],
   "source": [
    "# Part (3) Computing Camera Parameters\n",
    "# <YOUR CODE> Solve for the camera parameters (f, u, v)\n",
    "f, u, v, K = get_camera_parameters(vpt_x=vpts[:,1], vpt_y=vpts[:,2], vpt_z=vpts[:,0])\n",
    "print(f, u, v)\n",
    "print(K)\n",
    "# TODO: CHECK WHETHER K IS VALID"
   ]
  },
  {
   "cell_type": "code",
   "execution_count": 76,
   "metadata": {
    "tags": []
   },
   "outputs": [
    {
     "output_type": "stream",
     "name": "stdout",
     "text": "[[ 0.53870444  0.031817   -0.84189382]\n [-0.39717232  0.89086833 -0.22047167]\n [ 0.7430018   0.45314599  0.49255156]]\n"
    }
   ],
   "source": [
    "# Part (4) Computing Rotation Matrices\n",
    "# <YOUR CODE> Solve for the rotation matrix\n",
    "R = get_rotation_matrix(vpt_x=vpts[:,1], vpt_y=vpts[:,2], vpt_z=vpts[:,0], K=K)\n",
    "print(R)\n",
    "# TODO: CHECK WHY R IS NOT ORTHONORMAL"
   ]
  },
  {
   "cell_type": "code",
   "execution_count": 77,
   "metadata": {
    "tags": []
   },
   "outputs": [
    {
     "output_type": "stream",
     "name": "stdout",
     "text": "R is not a rotation matrix.\n"
    },
    {
     "output_type": "execute_result",
     "data": {
      "text/plain": "array([[ 0.29020247, -0.01263683, -0.62552862],\n       [-0.01263683,  0.79364639, -0.09990585],\n       [-0.62552862, -0.09990585,  0.24260704]])"
     },
     "metadata": {},
     "execution_count": 77
    }
   ],
   "source": [
    "def isRotationMatrix(M):\n",
    "    tag = False\n",
    "    I = np.identity(M.shape[0])\n",
    "    if np.all((np.matmul(M, M.T)) == I) and (np.linalg.det(M)==1): tag = True\n",
    "    return tag    \n",
    "\n",
    "if(isRotationMatrix(R)): print('R is a rotation matrix.')\n",
    "else: print('R is not a rotation matrix.')\n",
    "\n",
    "R * R.T\n"
   ]
  }
 ],
 "metadata": {
  "kernelspec": {
   "display_name": "Python 3",
   "language": "python",
   "name": "python3"
  },
  "language_info": {
   "codemirror_mode": {
    "name": "ipython",
    "version": 3
   },
   "file_extension": ".py",
   "mimetype": "text/x-python",
   "name": "python",
   "nbconvert_exporter": "python",
   "pygments_lexer": "ipython3",
   "version": "3.7.9-final"
  }
 },
 "nbformat": 4,
 "nbformat_minor": 4
}