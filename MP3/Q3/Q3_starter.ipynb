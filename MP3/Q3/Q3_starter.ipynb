{
 "cells": [
  {
   "cell_type": "markdown",
   "metadata": {},
   "source": [
    "# Single-View Geometry (Python)\n",
    "\n",
    "## Usage\n",
    "This code snippet provides an overall code structure and some interactive plot interfaces for the *Single-View Geometry* section of Assignment 3. In [main function](#Main-function), we outline the required functionalities step by step. Some of the functions which involves interactive plots are already provided, but [the rest](#Your-implementation) are left for you to implement.\n",
    "\n",
    "## Package installation\n",
    "- You will need [GUI backend](https://matplotlib.org/faq/usage_faq.html#what-is-a-backend) to enable interactive plots in `matplotlib`.\n",
    "- In this code, we use `tkinter` package. Installation instruction can be found [here](https://anaconda.org/anaconda/tk)."
   ]
  },
  {
   "cell_type": "markdown",
   "metadata": {},
   "source": [
    "# Common imports"
   ]
  },
  {
   "cell_type": "code",
   "execution_count": 1,
   "metadata": {},
   "outputs": [],
   "source": [
    "import matplotlib.pyplot as plt\n",
    "import numpy as np\n",
    "import cv2\n",
    "import os\n",
    "\n",
    "from PIL import Image\n",
    "import pickle"
   ]
  },
  {
   "cell_type": "code",
   "execution_count": 2,
   "metadata": {
    "tags": []
   },
   "outputs": [],
   "source": [
    "%matplotlib inline\n",
    "%matplotlib tk"
   ]
  },
  {
   "cell_type": "markdown",
   "metadata": {},
   "source": [
    "# Provided functions"
   ]
  },
  {
   "cell_type": "code",
   "execution_count": 3,
   "metadata": {},
   "outputs": [],
   "source": [
    "def get_input_lines(im, min_lines=3):\n",
    "    \"\"\"\n",
    "    Allows user to input line segments; computes centers and directions.\n",
    "    Inputs:\n",
    "        im: np.ndarray of shape (height, width, 3)\n",
    "        min_lines: minimum number of lines required\n",
    "    Returns:\n",
    "        n: number of lines from input\n",
    "        lines: np.ndarray of shape (3, n)\n",
    "            where each column denotes the parameters of the line equation\n",
    "        centers: np.ndarray of shape (3, n)\n",
    "            where each column denotes the homogeneous coordinates of the centers\n",
    "    \"\"\"\n",
    "    n = 0\n",
    "    lines = np.zeros((3, 0))\n",
    "    centers = np.zeros((3, 0))\n",
    "\n",
    "    plt.figure()\n",
    "    plt.axis('off')\n",
    "    plt.imshow(im)\n",
    "    print(f'Set at least {min_lines} lines to compute vanishing point')\n",
    "    print(f'The delete and backspace keys act like right clicking')\n",
    "    print(f'The enter key acts like middle clicking')\n",
    "    while True:\n",
    "        print('Click the two endpoints, use the right button (delete and backspace keys) to undo, and use the middle button to stop input')\n",
    "        clicked = plt.ginput(2, timeout=0, show_clicks=True)\n",
    "        if not clicked or len(clicked) < 2:\n",
    "            if n < min_lines:\n",
    "                print(f'Need at least {min_lines} lines, you have {n} now')\n",
    "                continue\n",
    "            else:\n",
    "                # Stop getting lines if number of lines is enough\n",
    "                break\n",
    "\n",
    "        # Unpack user inputs and save as homogeneous coordinates\n",
    "        pt1 = np.array([clicked[0][0], clicked[0][1], 1])\n",
    "        pt2 = np.array([clicked[1][0], clicked[1][1], 1])\n",
    "        # Get line equation using cross product\n",
    "        # Line equation: line[0] * x + line[1] * y + line[2] = 0\n",
    "        line = np.cross(pt1, pt2)\n",
    "        lines = np.append(lines, line.reshape((3, 1)), axis=1)\n",
    "        # Get center coordinate of the line segment\n",
    "        center = (pt1 + pt2) / 2\n",
    "        centers = np.append(centers, center.reshape((3, 1)), axis=1)\n",
    "\n",
    "        # Plot line segment\n",
    "        plt.plot([pt1[0], pt2[0]], [pt1[1], pt2[1]], color='b')\n",
    "\n",
    "        n += 1\n",
    "\n",
    "    return n, lines, centers"
   ]
  },
  {
   "cell_type": "code",
   "execution_count": 4,
   "metadata": {},
   "outputs": [],
   "source": [
    "def plot_lines_and_vp(ax, im, lines, vp):\n",
    "    \"\"\"\n",
    "    Plots user-input lines and the calculated vanishing point.\n",
    "    Inputs:\n",
    "        im: np.ndarray of shape (height, width, 3)\n",
    "        lines: np.ndarray of shape (3, n)\n",
    "            where each column denotes the parameters of the line equation\n",
    "        vp: np.ndarray of shape (3, )\n",
    "    \"\"\"\n",
    "    bx1 = min(1, vp[0] / vp[2]) - 10\n",
    "    bx2 = max(im.shape[1], vp[0] / vp[2]) + 10\n",
    "    by1 = min(1, vp[1] / vp[2]) - 10\n",
    "    by2 = max(im.shape[0], vp[1] / vp[2]) + 10\n",
    "    \n",
    "    ax.imshow(im)\n",
    "    for i in range(lines.shape[1]):\n",
    "        if lines[0, i] < lines[1, i]:\n",
    "            pt1 = np.cross(np.array([1, 0, -bx1]), lines[:, i])\n",
    "            pt2 = np.cross(np.array([1, 0, -bx2]), lines[:, i])\n",
    "        else:\n",
    "            pt1 = np.cross(np.array([0, 1, -by1]), lines[:, i])\n",
    "            pt2 = np.cross(np.array([0, 1, -by2]), lines[:, i])\n",
    "        pt1 = pt1 / pt1[2]\n",
    "        pt2 = pt2 / pt2[2]\n",
    "        ax.plot([pt1[0], pt2[0]], [pt1[1], pt2[1]], 'g')\n",
    "\n",
    "    ax.plot(vp[0] / vp[2], vp[1] / vp[2], 'ro')\n",
    "    ax.set_xlim([bx1, bx2])\n",
    "    ax.set_ylim([by2, by1])"
   ]
  },
  {
   "cell_type": "markdown",
   "metadata": {},
   "source": [
    "# Your implementation"
   ]
  },
  {
   "cell_type": "code",
   "execution_count": 5,
   "metadata": {},
   "outputs": [],
   "source": [
    "def get_vanishing_point(lines):\n",
    "    \"\"\"\n",
    "    Solves for the vanishing point using the user-input lines.\n",
    "    Inputs:\n",
    "        lines: np.ndarray of shape (3, N)\n",
    "            where each column denotes the parameters of the line equation (i.e. coefficients in $ax + by + c = 0$)\n",
    "    Returns:\n",
    "        vp: np.ndarray of shape (3, )\n",
    "            where the 2d vanishing point in homogeneous coordinate obtained by least-square solution among N lines\n",
    "    \"\"\"\n",
    "    _, N = lines.shape\n",
    "\n",
    "    A = np.empty((N, 3))\n",
    "    for i in range(N):\n",
    "        A[i, :] = lines[:, i]\n",
    "    \n",
    "    U, S, V = np.linalg.svd(A)\n",
    "    vp = np.reshape(V[-1, :], (3,))\n",
    "    \n",
    "    vp /= vp[-1]\n",
    "\n",
    "    return vp"
   ]
  },
  {
   "cell_type": "code",
   "execution_count": 6,
   "metadata": {},
   "outputs": [],
   "source": [
    "def get_horizon_line(horizontal_vp0, horizontal_vp1):\n",
    "    \"\"\"\n",
    "    Calculates the ground horizon line.\n",
    "    Inputs:\n",
    "        horizontal_vp0: np.ndarray of shape (3, )\n",
    "            where one horizontal 2d vanishing point in homogeneous coordinate\n",
    "        horizontal_vp1: np.ndarray of shape (3, )\n",
    "            where the other horizontal 2d vanishing point in homogeneous coordinate\n",
    "    Returns:\n",
    "        horizontal_line: np.ndarray of shape (3, )\n",
    "            where the coefficients of 2d horizontal line equation ax + by + c = 0 \n",
    "            with a constraint that a**2 + b**2 = 1\n",
    "    \"\"\"\n",
    "    # normalize 2d vanishing points \n",
    "    horizontal_vp0 /= horizontal_vp0[-1]\n",
    "    horizontal_vp1 /= horizontal_vp1[-1]\n",
    "\n",
    "    # construct ax + by + c = 0 where coefficients are not normalized\n",
    "    x0, y0 = horizontal_vp0[:-1]\n",
    "    x1, y1 = horizontal_vp1[:-1]\n",
    "    horizontal_line = np.array([(y1 - y0), -(x1 - x0), -x0*y1 + x1*y0])\n",
    "    \n",
    "    # force ax + by + c = 0 where a**2 + b**2 = 1\n",
    "    horizontal_line /= np.linalg.norm(horizontal_line[:-1])\n",
    "    \n",
    "    return horizontal_line"
   ]
  },
  {
   "cell_type": "code",
   "execution_count": 7,
   "metadata": {},
   "outputs": [],
   "source": [
    "def plot_horizon_line(ax, im, horizontal_line, pt1=None, pt2=None):\n",
    "    \"\"\"\n",
    "    Plots the horizon line.\n",
    "    Inputs:\n",
    "        ax: pyplot axis\n",
    "        im: np.ndarray of shape (height, width, 3)\n",
    "        horizontal_line: np.ndarray of shape (3, )\n",
    "            where the coefficients of 2d horizontal line equation ax + by + c = 0 \n",
    "            which satisfies a**2 + b**2 = 1\n",
    "        pt1 (optional): np.ndarray of shape (3, )\n",
    "            where one horizontal 2d vanishing point in homogeneous coordinate\n",
    "        pt2 (optional): np.ndarray of shape (3, )\n",
    "            where the other horizontal 2d vanishing point in homogeneous coordinate\n",
    "    Returns:\n",
    "    \"\"\"\n",
    "    # normalize horizontal_line\n",
    "    horizontal_line /= np.linalg.norm(horizontal_line[:-1])\n",
    "\n",
    "    ax.imshow(im)\n",
    "\n",
    "    if (pt1 is None) or (pt2 is None): \n",
    "        # if two horizontal vanishing points are not given, \n",
    "        # pt1 for x-intercept and pt2 for y-intercept\n",
    "        pt1 = np.array([-horizontal_line[2]/horizontal_line[0], 0, 1])\n",
    "        pt2 = np.array([0, -horizontal_line[2]/horizontal_line[1], 1])\n",
    "    else:\n",
    "        # else, normalize them\n",
    "        pt1 /= pt1[-1]\n",
    "        pt2 /= pt2[-1]\n",
    "\n",
    "    # plot horizontal line\n",
    "    ax.plot([pt1[0], pt2[0]], [pt1[1], pt2[1]], 'g')\n",
    "\n",
    "    # plot vanishing points or intercepts\n",
    "    ax.plot(pt1[0], pt1[1], 'ro')\n",
    "    ax.plot(pt2[0], pt2[1], 'ro')"
   ]
  },
  {
   "cell_type": "code",
   "execution_count": 8,
   "metadata": {},
   "outputs": [],
   "source": [
    "def get_camera_parameters(vpt_x, vpt_y, vpt_z):\n",
    "    \"\"\"\n",
    "    Computes the camera parameters. Hint: The SymPy package is suitable for this.\n",
    "    Inputs:\n",
    "        vpt_x: np.ndarray of shape (3, )\n",
    "            where horizontal vanishing point toward right in 2d homogeneous coordinate\n",
    "        vpt_y: np.ndarray of shape (3, )\n",
    "            where vertical vanishing point downward in 2d homogeneous coordinate\n",
    "        vpt_z: np.ndarray of shape (3, )\n",
    "            where horizontal vanishing point toward left in 2d homogeneous coordinate\n",
    "    Returns:\n",
    "        f: focal length\n",
    "        u: principal point along horizontal axis\n",
    "        v: principal point along vertical axis\n",
    "        K: np.ndarray of shape (3, 3)\n",
    "    \"\"\"\n",
    "    from sympy import symbols, Matrix, solve, Eq\n",
    "    f_sym, u_sym, v_sym = symbols('f, u, v')\n",
    "    K_sym = Matrix([[f_sym,0,u_sym], [0,f_sym,v_sym], [0,0,1]])\n",
    "\n",
    "    V_left  = np.vstack([vpt_x, vpt_y, vpt_z]).T\n",
    "    V_right = np.vstack([vpt_y, vpt_z, vpt_x]).T\n",
    "\n",
    "    res = V_left.T * K_sym.inv().T * K_sym.inv() * V_right\n",
    "    \n",
    "    eq0 = Eq(res[0,0], 0)\n",
    "    eq1 = Eq(res[1,1], 0)\n",
    "    eq2 = Eq(res[2,2], 0)\n",
    "\n",
    "    sol = solve([eq0, eq1, eq2], (f_sym, u_sym, v_sym))\n",
    "    f = abs(sol[0][0])\n",
    "    u = sol[0][1]\n",
    "    v = sol[0][2]\n",
    "    K = np.array([[f,0,u], [0,f,v], [0,0,1]], dtype='float')\n",
    "\n",
    "    return f, u, v, K"
   ]
  },
  {
   "cell_type": "code",
   "execution_count": 9,
   "metadata": {},
   "outputs": [],
   "source": [
    "def get_rotation_matrix(vpt_x, vpt_y, vpt_z, K):\n",
    "    \"\"\"\n",
    "    Computes the rotation matrix using the camera parameters.\n",
    "    Inputs:\n",
    "        vpt_x: np.ndarray of shape (3, )\n",
    "            where horizontal vanishing point toward right in 2d homogeneous coordinate\n",
    "        vpt_y: np.ndarray of shape (3, )\n",
    "            where vertical vanishing point downward in 2d homogeneous coordinate\n",
    "        vpt_z: np.ndarray of shape (3, )\n",
    "            where horizontal vanishing point toward left in 2d homogeneous coordinate\n",
    "        K: np.ndarray of shape (3, 3)\n",
    "    Returns:\n",
    "        R: np.ndarray of shape (3, 3)\n",
    "            rotation matrix, whose column vectors' norms are equal to 1\n",
    "    \"\"\"\n",
    "    # calculate unnormalized rotation matrix\n",
    "    r1_raw = np.linalg.inv(K) @ vpt_x[:,np.newaxis]\n",
    "    r2_raw = np.linalg.inv(K) @ vpt_y[:,np.newaxis]\n",
    "    r3_raw = np.linalg.inv(K) @ vpt_z[:,np.newaxis]\n",
    "    \n",
    "    # normalize columnwise\n",
    "    r1 = r1_raw / np.linalg.norm(r1_raw)\n",
    "    r2 = r2_raw / np.linalg.norm(r2_raw)\n",
    "    r3 = r3_raw / np.linalg.norm(r3_raw)\n",
    "\n",
    "    R = np.hstack([r1,r2,r3])\n",
    "\n",
    "    return R"
   ]
  },
  {
   "cell_type": "markdown",
   "metadata": {},
   "source": [
    "# Main function"
   ]
  },
  {
   "cell_type": "code",
   "execution_count": 10,
   "metadata": {},
   "outputs": [],
   "source": [
    "im = np.asarray(Image.open('./eceb.jpg'))\n",
    "\n",
    "# Also loads the vanishing line data if it exists in data.pickle file. \n",
    "# data.pickle is written using snippet in the next cell.\n",
    "if os.path.exists('./data.pickle'):\n",
    "    with open('./data.pickle', 'rb') as f:\n",
    "        all_n, all_lines, all_centers = pickle.load(f)\n",
    "    num_vpts = 3"
   ]
  },
  {
   "cell_type": "code",
   "execution_count": 11,
   "metadata": {
    "tags": []
   },
   "outputs": [],
   "source": [
    "# Click and save the line data for vanishing points. This snippet \n",
    "# opens up an interface for selecting points and writes them to \n",
    "# data.pickle file. The file is over-written.\n",
    "\n",
    "# num_vpts = 3\n",
    "# all_n, all_lines, all_centers = [], [], []\n",
    "# \n",
    "# for i in range(num_vpts):\n",
    "#     print(f'Getting vanishing point {i}')\n",
    "#     \n",
    "#     # Get at least three lines from user input\n",
    "#     n_i, lines_i, centers_i = get_input_lines(im)\n",
    "#     all_n.append(n_i)\n",
    "#     all_lines.append(lines_i)\n",
    "#     all_centers.append(centers_i)\n",
    "# \n",
    "# with open('data.pickle', 'wb') as f:\n",
    "#     pickle.dump([all_n, all_lines, all_centers], f)"
   ]
  },
  {
   "cell_type": "code",
   "execution_count": 12,
   "metadata": {
    "tags": []
   },
   "outputs": [
    {
     "output_type": "stream",
     "name": "stdout",
     "text": [
      "vanishing point 0:  [-1910.80224301    93.81311665]\n",
      "vanishing point 1:  [3679.66328067 -105.84809264]\n",
      "vanishing point 2:  [2175.82617724 5636.70907416]\n"
     ]
    }
   ],
   "source": [
    "# Part (1)\n",
    "# Computing vanishing points for each of the directions\n",
    "vpts = np.zeros((3, num_vpts))\n",
    "\n",
    "for i in range(num_vpts):\n",
    "    fig = plt.figure(); ax = fig.gca()\n",
    "    \n",
    "    # <YOUR CODE> Solve for vanishing point\n",
    "    vpts[:, i] = get_vanishing_point(all_lines[i])\n",
    "    print(f\"vanishing point {i}: \", vpts[:2, i])\n",
    "    \n",
    "    # Plot the lines and the vanishing point\n",
    "    plot_lines_and_vp(ax, im, all_lines[i], vpts[:, i])\n",
    "    fig.savefig('Q3_vp{:d}.pdf'.format(i), bbox_inches='tight')\n",
    "    fig.savefig('Q3_vp{:d}.jpg'.format(i))"
   ]
  },
  {
   "cell_type": "code",
   "execution_count": 13,
   "metadata": {
    "tags": []
   },
   "outputs": [
    {
     "output_type": "stream",
     "name": "stdout",
     "text": [
      "horizontal line:  [-0.03569184 -0.99936284 25.55329752]\n"
     ]
    }
   ],
   "source": [
    "# Part (2) Computing and plotting the horizon\n",
    "# <YOUR CODE> Get the ground horizon line\n",
    "horizon_line = get_horizon_line(vpts[:, 0], vpts[:, 1])\n",
    "print(\"horizontal line: \", horizon_line)\n",
    "\n",
    "# <YOUR CODE> Plot the ground horizon line\n",
    "fig = plt.figure(); ax = fig.gca()\n",
    "plot_horizon_line(ax, im, horizon_line, pt1=vpts[:, 0], pt2=vpts[:, 1])\n",
    "fig.savefig('Q3_horizon.pdf', bbox_inches='tight')\n",
    "fig.savefig('Q3_horizon.jpg')"
   ]
  },
  {
   "cell_type": "code",
   "execution_count": 14,
   "metadata": {
    "tags": []
   },
   "outputs": [
    {
     "output_type": "stream",
     "name": "stdout",
     "text": [
      "f: 2296.55, u: 2014.58, v: 1121.78\nK: \n [[2.29655057e+03 0.00000000e+00 2.01457715e+03]\n [0.00000000e+00 2.29655057e+03 1.12177522e+03]\n [0.00000000e+00 0.00000000e+00 1.00000000e+00]]\ntest 1:  [2.66453525910038e-15]\ntest 2:  [8.88178419700125e-16]\ntest 3:  [-1.63064006741820e-15]\n"
     ]
    }
   ],
   "source": [
    "# Part (3) Computing Camera Parameters\n",
    "# <YOUR CODE> Solve for the camera parameters (f, u, v)\n",
    "f, u, v, K = get_camera_parameters(vpt_x=vpts[:,1], vpt_y=vpts[:,2], vpt_z=vpts[:,0])\n",
    "print(f'f: {f:.2f}, u: {u:.2f}, v: {v:.2f}')\n",
    "print('K: \\n', K)\n",
    "\n",
    "# sanity check for whether the estimated intrinsic parameters are valid; the matrix multiplication should be minimized as much as possible\n",
    "K_invT_K_inv = np.array([[f**(-2), 0, -u/f**2], \n",
    "                          [0, f**(-2), -v/f**2],\n",
    "                          [-u/f**2, -v/f**2, 1 + u**2/f**2 + v**2/f**2]])\n",
    "print('test 1: ', vpts[:,0][np.newaxis, :] @ K_invT_K_inv @ vpts[:,1])\n",
    "print('test 2: ', vpts[:,1][np.newaxis, :] @ K_invT_K_inv @ vpts[:,2])\n",
    "print('test 3: ', vpts[:,2][np.newaxis, :] @ K_invT_K_inv @ vpts[:,0])"
   ]
  },
  {
   "cell_type": "code",
   "execution_count": 15,
   "metadata": {
    "tags": []
   },
   "outputs": [
    {
     "output_type": "stream",
     "name": "stdout",
     "text": [
      "R: \n [[ 0.53870444  0.031817   -0.84189382]\n [-0.39717232  0.89086833 -0.22047167]\n [ 0.7430018   0.45314599  0.49255156]]\nR is a rotation matrix.\n"
     ]
    },
    {
     "output_type": "execute_result",
     "data": {
      "text/plain": [
       "True"
      ]
     },
     "metadata": {},
     "execution_count": 15
    }
   ],
   "source": [
    "# Part (4) Computing Rotation Matrices\n",
    "# <YOUR CODE> Solve for the rotation matrix\n",
    "R = get_rotation_matrix(vpt_x=vpts[:,1], vpt_y=vpts[:,2], vpt_z=vpts[:,0], K=K)\n",
    "print('R: \\n', R)\n",
    "\n",
    "# sanity check for whether R is orthonormal\n",
    "def isRotationMatrix(M, eps=0.01):\n",
    "    I = np.identity(M.shape[0])\n",
    "    if np.all(np.around(M @ M.T) == I) and (np.linalg.det(M)-1 < eps): \n",
    "        print('R is a rotation matrix.')\n",
    "        return True\n",
    "    else: \n",
    "        print('R is not a rotation matrix.')\n",
    "        return False\n",
    "\n",
    "isRotationMatrix(R)"
   ]
  },
  {
   "cell_type": "code",
   "execution_count": null,
   "metadata": {},
   "outputs": [],
   "source": []
  }
 ],
 "metadata": {
  "kernelspec": {
   "name": "python379jvsc74a57bd0350a8a0107a4321f3aec0da69c43fe4058b06199a886d52272e058d3d4977684",
   "display_name": "Python 3.7.9 64-bit ('py37': conda)"
  },
  "language_info": {
   "codemirror_mode": {
    "name": "ipython",
    "version": 3
   },
   "file_extension": ".py",
   "mimetype": "text/x-python",
   "name": "python",
   "nbconvert_exporter": "python",
   "pygments_lexer": "ipython3",
   "version": "3.7.9"
  },
  "metadata": {
   "interpreter": {
    "hash": "350a8a0107a4321f3aec0da69c43fe4058b06199a886d52272e058d3d4977684"
   }
  }
 },
 "nbformat": 4,
 "nbformat_minor": 4
}